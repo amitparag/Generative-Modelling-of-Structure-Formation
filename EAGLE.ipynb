{
 "cells": [
  {
   "cell_type": "code",
   "execution_count": null,
   "metadata": {},
   "outputs": [],
   "source": [
    "import sys\n",
    "sys.path.append(\"../\")\n",
    "\n",
    "\n",
    "import numpy as np\n",
    "name = 's13to8'\n",
    "train = np.loadtxt( name + \".ts.data\", dtype=float, delimiter=\",\", skiprows=0)\n",
    "test = np.loadtxt( name + \".test.data\", dtype=float, delimiter=\",\", skiprows=0)\n",
    "\n",
    "D = np.vstack((train, test))\n",
    "F = D.shape[1]\n",
    "features = [\"V\" + str(i) for i in range(F)]\n",
    "name.upper()\n",
    "\n",
    "from spn.structure.Base import Context\n",
    "from spn.algorithms.LearningWrappers import learn_parametric\n",
    "from spn.structure.leaves.parametric.Parametric import Bernoulli\n",
    "\n",
    "try:\n",
    "    from time import perf_counter\n",
    "except:\n",
    "    from time import time as perf_counter\n",
    "    \n",
    "    \n",
    "np.seterr(divide='ignore', invalid='ignore')\n",
    "ds_context = Context(parametric_types= np.asarray([Bernoulli] * F)).add_domains(train)\n",
    "eval_start_t = perf_counter()\n",
    "spn = learn_parametric(train, ds_context, min_instances_slice=20)\n",
    "eval_end_t = perf_counter()\n",
    "#print('Structure of SPN learnt in {0} secs'.format(eval_end_t - eval_start_t))\n",
    "\n",
    "\n",
    "'''\n",
    "from spn.algorithms.Statistics import get_structure_stats\n",
    "print(get_structure_stats(spn))\n",
    "print('\\n')\n",
    "\n",
    "from spn.io.Graphics import *\n",
    "def plot_spn_svg(root_node, fname=\"spn.pdf\"):\n",
    "    import networkx.drawing.nx_pydot as nxpd\n",
    "\n",
    "    g, _ = get_networkx_obj(root_node)\n",
    "\n",
    "    pdG = nxpd.to_pydot(g)\n",
    "    svg_string = pdG.create_svg()\n",
    "\n",
    "    f = open(fname, 'wb')\n",
    "    f.write(svg_string)\n",
    "\n",
    "def plot(spn, fname=\"spn.pdf\"):\n",
    "\n",
    "    import networkx as nx\n",
    "    from networkx.drawing.nx_pydot import graphviz_layout\n",
    "\n",
    "    import matplotlib.pyplot as plt\n",
    "\n",
    "    plt.clf()\n",
    "\n",
    "    g, labels = get_networkx_obj(spn)\n",
    "\n",
    "    pos = graphviz_layout(g, prog='dot')\n",
    "    #plt.figure(figsize=(200, 100))\n",
    "    ax = plt.gca()\n",
    "\n",
    "    ax.invert_yaxis()\n",
    "\n",
    "    nx.draw(g, pos, with_labels=True, arrows=False, node_color='blue', edge_color='black', width=1, node_size=1,\n",
    "            labels=labels, font_size=1)\n",
    "    ax.collections[0].set_edgecolor(\"#333333\")\n",
    "    #edge_labels = nx.draw_networkx_edge_labels(g, pos=pos, edge_labels=nx.get_edge_attributes(g, 'weight'), font_size=1,\n",
    "                                              # clip_on=False, alpha=0.6)\n",
    "\n",
    "    xpos = list(map(lambda p: p[0], pos.values()))\n",
    "    ypos = list(map(lambda p: p[1], pos.values()))\n",
    "\n",
    "    ax.set_xlim(min(xpos)-20,max(xpos)+20)\n",
    "    ax.set_ylim(min(ypos)-20,max(ypos)+20)\n",
    "    plt.tight_layout()\n",
    "    plt.margins(0, 0)\n",
    "    plt.gca().xaxis.set_major_locator(NullLocator())\n",
    "    plt.gca().yaxis.set_major_locator(NullLocator())\n",
    "    plt.savefig(fname,bbox_inches='tight', pad_inches = 0)\n",
    "plot(spn)\n",
    "plot_spn_svg(spn)\n",
    "'''\n",
    "print(\"............................................\\n\\n\\n\\n\\n\\n\")\n",
    "from sklearn.metrics import mean_squared_error, r2_score\n",
    "from scipy.stats import pearsonr\n",
    "from spn.algorithms.Sampling import sample_instances\n",
    "from numpy.random.mtrand import RandomState\n",
    "from copy import deepcopy\n",
    "\n",
    "# test[:,0:5] : These are the galaxy properties to be predicted\n",
    "\n",
    "test_copy = deepcopy(test)\n",
    "test_copy[:,0:5] = np.nan\n",
    "\n",
    "sampled_data = sample_instances(spn, test_copy, RandomState(123))\n",
    "\n",
    "print('MSE numOfGalaxies is %f,massCentralBlackHole is %f, stellarMass is %f, velDisp is %f,sfr is %f \\n' %\n",
    "  (mean_squared_error(test[: , 0], sampled_data[: , 0]), mean_squared_error(test[: , 1], sampled_data[: , 1]), \\\n",
    "    mean_squared_error(test[: , 2], sampled_data[: , 2]), mean_squared_error(test[: , 3], sampled_data[: , 3]), \\\n",
    "    mean_squared_error(test[: , 4], sampled_data[: , 4])))\n",
    "\n",
    "print('R^2 numOfGalaxies is %f, massCentralBlackHole is %f,stellarMasse is %f,velDisp is %f, sfr is %f \\n' %\n",
    "  (r2_score(test[: , 0], sampled_data[: , 0]), r2_score(test[: , 1], sampled_data[: , 1]), \\\n",
    "    r2_score(test[: , 2], sampled_data[: , 2]), r2_score(test[: , 3], sampled_data[: , 3]), \\\n",
    "    r2_score(test[: , 4], sampled_data[: , 4])))\n",
    "\n",
    "print('P_Co numOfGalaxies is %f, massCentralBlackHole is %f, stellarMass is %f,velDisp is %f, sfr is %f\\n' %\n",
    "  (pearsonr(test[: , 0], sampled_data[: , 0])[0], pearsonr(test[: , 1], sampled_data[: , 1])[0], \\\n",
    "    pearsonr(test[: , 2], sampled_data[: , 2])[0], pearsonr(test[: , 3], sampled_data[: , 3])[0], \\\n",
    "    pearsonr(test[: , 4], sampled_data[: , 4])[0]))\n",
    "      \n",
    "      \n",
    "      \n",
    "      \n",
    "\n",
    "    "
   ]
  },
  {
   "cell_type": "code",
   "execution_count": null,
   "metadata": {},
   "outputs": [],
   "source": [
    "from copy import deepcopy\n",
    "from spn.algorithms.Inference import log_likelihood\n",
    "test_copy = deepcopy(test)\n",
    "test_copy[:,0:5] = np.nan\n",
    "\n",
    "conditional_ll = log_likelihood(spn, test) - log_likelihood(spn, test_copy)\n",
    "conditional_ll"
   ]
  },
  {
   "cell_type": "code",
   "execution_count": null,
   "metadata": {},
   "outputs": [],
   "source": [
    "np.exp(conditional_ll)"
   ]
  },
  {
   "cell_type": "code",
   "execution_count": null,
   "metadata": {},
   "outputs": [],
   "source": [
    "conditional_ll.shape"
   ]
  },
  {
   "cell_type": "code",
   "execution_count": null,
   "metadata": {},
   "outputs": [],
   "source": [
    "\n",
    "for i in range(len(conditional_ll)):\n",
    "    if np.exp(conditional_ll[i]) >= 0.5:\n",
    "        counter += 1\n",
    "        \n",
    "counter / len(conditional_ll)   \n",
    "    "
   ]
  },
  {
   "cell_type": "code",
   "execution_count": null,
   "metadata": {},
   "outputs": [],
   "source": [
    "len(conditional_ll)"
   ]
  },
  {
   "cell_type": "code",
   "execution_count": null,
   "metadata": {},
   "outputs": [],
   "source": [
    "np.arange(0, 5, 1)"
   ]
  },
  {
   "cell_type": "code",
   "execution_count": null,
   "metadata": {},
   "outputs": [],
   "source": [
    "from spn.algorithms.Marginalization import marginalize\n",
    "spn_marg = marginalize(spn, np.arange(5, 67,1))"
   ]
  },
  {
   "cell_type": "code",
   "execution_count": null,
   "metadata": {},
   "outputs": [],
   "source": [
    "from spn.algorithms.Inference import log_likelihood, conditional_log_likelihood\n",
    "\n",
    "conditional_log = conditional_log_likelihood(spn, spn_marg, test) \n"
   ]
  },
  {
   "cell_type": "code",
   "execution_count": null,
   "metadata": {},
   "outputs": [],
   "source": [
    "conditional_log\n"
   ]
  },
  {
   "cell_type": "code",
   "execution_count": null,
   "metadata": {},
   "outputs": [],
   "source": [
    "assert(np.all(np.isclose(conditional_ll, conditional_log)))"
   ]
  },
  {
   "cell_type": "code",
   "execution_count": null,
   "metadata": {},
   "outputs": [],
   "source": [
    "assert(np.all(np.isclose(np.exp(conditional_ll), np.exp(conditional_log))))"
   ]
  },
  {
   "cell_type": "code",
   "execution_count": null,
   "metadata": {},
   "outputs": [],
   "source": [
    "from spn.algorithms.LearningWrappers import learn_classifier\n",
    "\n",
    "classify = learn_classifier(train, ds_context,learn_parametric, label_idx= 0)\n"
   ]
  },
  {
   "cell_type": "code",
   "execution_count": null,
   "metadata": {},
   "outputs": [],
   "source": [
    "t = deepcopy(test)"
   ]
  },
  {
   "cell_type": "code",
   "execution_count": null,
   "metadata": {},
   "outputs": [],
   "source": [
    "t[:,0] = np.nan"
   ]
  },
  {
   "cell_type": "code",
   "execution_count": null,
   "metadata": {},
   "outputs": [],
   "source": [
    "from spn.algorithms.MPE import mpe\n",
    "c = mpe(classify, t)"
   ]
  },
  {
   "cell_type": "code",
   "execution_count": null,
   "metadata": {},
   "outputs": [],
   "source": [
    "assert(np.all(np.isclose(c, test)))"
   ]
  },
  {
   "cell_type": "code",
   "execution_count": null,
   "metadata": {},
   "outputs": [],
   "source": [
    "d= sam  "
   ]
  },
  {
   "cell_type": "code",
   "execution_count": null,
   "metadata": {},
   "outputs": [],
   "source": [
    "test"
   ]
  },
  {
   "cell_type": "code",
   "execution_count": null,
   "metadata": {},
   "outputs": [],
   "source": [
    "count = 0\n",
    "for co in range(len(test)):\n",
    "    if np.all(test[co,0]) == np.all(c[co,0]):\n",
    "        \n",
    "        count +=1\n",
    "        \n",
    "count/len(test)        "
   ]
  },
  {
   "cell_type": "code",
   "execution_count": null,
   "metadata": {},
   "outputs": [],
   "source": [
    "count"
   ]
  },
  {
   "cell_type": "code",
   "execution_count": null,
   "metadata": {},
   "outputs": [],
   "source": [
    "from spn.algorithms.Sampling import sample_instances\n",
    "from numpy.random.mtrand import RandomState\n",
    "d = sample_instances(classify, t, RandomState(123))\n",
    "\n",
    "cout = 0\n",
    "for co in range(len(test)):\n",
    "    if (test[co,0]) == (d[co,0]):\n",
    "        \n",
    "        cout +=1\n",
    "        \n",
    "cout/len(test)"
   ]
  },
  {
   "cell_type": "code",
   "execution_count": null,
   "metadata": {},
   "outputs": [],
   "source": []
  }
 ],
 "metadata": {
  "kernelspec": {
   "display_name": "Python 3",
   "language": "python",
   "name": "python3"
  },
  "language_info": {
   "codemirror_mode": {
    "name": "ipython",
    "version": 3
   },
   "file_extension": ".py",
   "mimetype": "text/x-python",
   "name": "python",
   "nbconvert_exporter": "python",
   "pygments_lexer": "ipython3",
   "version": "3.6.5"
  }
 },
 "nbformat": 4,
 "nbformat_minor": 2
}
