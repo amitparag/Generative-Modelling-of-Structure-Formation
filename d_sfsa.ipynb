{
 "cells": [
  {
   "cell_type": "code",
   "execution_count": 1,
   "metadata": {},
   "outputs": [
    {
     "data": {
      "text/plain": [
       "[0, 1, 2]"
      ]
     },
     "execution_count": 1,
     "metadata": {},
     "output_type": "execute_result"
    }
   ],
   "source": [
    "from spn.structure.leaves.parametric.Parametric import Categorical\n",
    "\n",
    "from spn.structure.Base import Sum, Product\n",
    "\n",
    "from spn.structure.Base import assign_ids, rebuild_scopes_bottom_up\n",
    "\n",
    "\n",
    "p0 = Product(children=[Categorical(p=[0.3, 0.7], scope=1), Categorical(p=[0.4, 0.6], scope=2)])\n",
    "p1 = Product(children=[Categorical(p=[0.5, 0.5], scope=1), Categorical(p=[0.6, 0.4], scope=2)])\n",
    "s1 = Sum(weights=[0.3, 0.7], children=[p0, p1])\n",
    "p2 = Product(children=[Categorical(p=[0.2, 0.8], scope=0), s1])\n",
    "p3 = Product(children=[Categorical(p=[0.2, 0.8], scope=0), Categorical(p=[0.3, 0.7], scope=1)])\n",
    "p4 = Product(children=[p3, Categorical(p=[0.4, 0.6], scope=2)])\n",
    "spn = Sum(weights=[0.4, 0.6], children=[p2, p4])\n",
    "\n",
    "assign_ids(spn)\n",
    "rebuild_scopes_bottom_up(spn)\n",
    "\n"
   ]
  }
 ],
 "metadata": {
  "kernelspec": {
   "display_name": "Python 3",
   "language": "python",
   "name": "python3"
  },
  "language_info": {
   "codemirror_mode": {
    "name": "ipython",
    "version": 3
   },
   "file_extension": ".py",
   "mimetype": "text/x-python",
   "name": "python",
   "nbconvert_exporter": "python",
   "pygments_lexer": "ipython3",
   "version": "3.6.5"
  }
 },
 "nbformat": 4,
 "nbformat_minor": 2
}
