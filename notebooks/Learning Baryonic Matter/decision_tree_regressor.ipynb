{
 "cells": [
  {
   "cell_type": "code",
   "execution_count": 1,
   "metadata": {},
   "outputs": [
    {
     "data": {
      "image/png": "[encoded data removed]",
      "text/plain": [
       "<Figure size 1296x72 with 1 Axes>"
      ]
     },
     "metadata": {
      "needs_background": "light"
     },
     "output_type": "display_data"
    }
   ],
   "source": [
    "%load_ext autoreload\n",
    "%autoreload 2\n",
    "%run 'helper.ipynb'\n",
    "%matplotlib inline\n",
    "%reload_ext autoreload\n",
    "import numpy as np\n",
    "from sklearn.model_selection import train_test_split\n",
    "from sklearn.metrics import r2_score\n",
    "from scipy.stats import kendalltau, spearmanr, pearsonr\n",
    "import matplotlib\n",
    "from matplotlib.colors import LogNorm\n",
    "import matplotlib.pyplot as plt\n",
    "from operator import itemgetter\n",
    "from sklearn import decomposition\n",
    "import pandas as pd\n",
    "import seaborn as sns\n",
    "import time\n",
    "import math\n",
    "from sklearn.tree import DecisionTreeRegressor\n",
    "from sklearn.preprocessing import minmax_scale\n",
    "\n",
    "from sklearn.neural_network import MLPRegressor"
   ]
  },
  {
   "cell_type": "code",
   "execution_count": 2,
   "metadata": {},
   "outputs": [
    {
     "name": "stdout",
     "output_type": "stream",
     "text": [
      "(3106866, 15)\n",
      "(3020056, 15)\n",
      "['GroupMass', 'Halo200Mass', 'Halo200Radius', 'Halo500Mass', 'Halo500Radius', 'HaloTopHatMass', 'HaloTophatRadius', 'HaloMeanMass200', 'HaloMeanRadius200', 'HaloMeanMass500', 'HaloMeanRadius500', 'massCentralBlackHole', 'stellarMass', 'gasMass', 'RadiusStellar']\n",
      "MSE 13 [0.0220467  0.00014167 0.01248385 0.03706181]\n",
      "mse 28 [4.59147176e-03 4.70233055e-05 1.35847742e-03 3.53832160e-02]\n"
     ]
    }
   ],
   "source": [
    "from copy import deepcopy\n",
    "#Train snapshot \n",
    "df = pd.read_csv('data.csv')\n",
    "df = df.sample(frac = 1).reset_index(drop = True)\n",
    "print(df.shape)\n",
    "\n",
    "from scipy import stats\n",
    "df = df[(np.abs(stats.zscore(df)) < 3).all(axis=1)] #remove outliers in one go\n",
    "print(df.shape)\n",
    "\n",
    "\n",
    "\n",
    "\n",
    "data = df.values\n",
    "\n",
    "\n",
    "\n",
    "\n",
    "train_y = deepcopy(data[:, 11:15])\n",
    "train_x = deepcopy(data[:, 0:11])\n",
    "\n",
    "\n",
    "#Test snapshot 13\n",
    "test_13 = pd.read_csv('test13.csv')\n",
    "test_13 = test_13.sample(frac = 1).reset_index(drop = True)\n",
    "print(test_13.columns.tolist())\n",
    "test_13 = test_13[(np.abs(stats.zscore(test_13)) < 3).all(axis=1)]\n",
    "dat = test_13.values\n",
    "\n",
    "test_y_13 = deepcopy(dat[:, 11:15])\n",
    "test_x_13 = deepcopy(dat[:, 0:11])\n",
    "\n",
    "\n",
    "\n",
    "\n",
    "\n",
    "\n",
    "\n",
    "\n",
    "#Test snapshot 28\n",
    "test_28 = pd.read_csv('test28.csv')\n",
    "test_28 = test_28.sample(frac = 1).reset_index(drop = True)\n",
    "test_28 = test_28[(np.abs(stats.zscore(test_28)) < 3).all(axis=1)]\n",
    "\n",
    "da = test_28.values\n",
    "\n",
    "test_y_28 = deepcopy(da[:, 11:15])\n",
    "test_x_28 = deepcopy(da[:, 0:11])\n",
    "\n",
    "#MLP\n",
    "dtree_r = DecisionTreeRegressor(max_depth=8, min_samples_split=4, min_samples_leaf=3)\n",
    "pred_13 = dtree_r.fit(train_x, train_y).predict(test_x_13)\n",
    "pred_28 = dtree_r.predict(test_x_28)\n",
    "\n",
    "#Normalize to calculate mse\n",
    "copy13_test = deepcopy(test_y_13)\n",
    "copy13_pred = deepcopy(pred_13)\n",
    "t13 = minmax_scale(copy13_test, axis = 0)\n",
    "p13 = minmax_scale(copy13_pred, axis = 0)\n",
    "\n",
    "copy28_test = deepcopy(test_y_28)\n",
    "copy28_pred = deepcopy(pred_28)\n",
    "t28 = minmax_scale(copy28_test, axis = 0)\n",
    "p28 = minmax_scale(copy28_pred, axis = 0)\n",
    "\n",
    "mse_13 = mse(t13, p13)\n",
    "mse_28 = mse(t28, p28)\n",
    "\n",
    "\n",
    "del dtree_r, copy13_pred, copy13_test, copy28_pred, copy28_test\n",
    "\n",
    "\n",
    "df.columns.tolist()\n",
    "\n",
    "print(\"MSE 13\", mse_13)\n",
    "print('mse 28', mse_28)\n",
    "\n",
    "\n",
    "\n",
    "\n"
   ]
  },
  {
   "cell_type": "code",
   "execution_count": 3,
   "metadata": {},
   "outputs": [],
   "source": [
    "bh_pearson_13_28 = pearsonr(test_y_13[:,0], pred_13[:, 0])[0] , pearsonr(test_y_28[:,0], pred_28[:, 0])[0]\n",
    "sm_pearson_13_28 = pearsonr(test_y_13[:,1], pred_13[:, 1])[0] , pearsonr(test_y_28[:,1], pred_28[:, 1])[0]\n",
    "gm_pearson_13_28 = pearsonr(test_y_13[:,2], pred_13[:, 2])[0] , pearsonr(test_y_28[:,2], pred_28[:, 2])[0]\n",
    "rs_pearson_13_28 = pearsonr(test_y_13[:,3], pred_13[:, 3])[0] , pearsonr(test_y_28[:,3], pred_28[:, 3])[0]\n",
    "\n",
    "\n",
    "bh_spearmanr_13_28 = spearmanr(test_y_13[:,0], pred_13[:, 0])[0] , spearmanr(test_y_28[:,0], pred_28[:, 0])[0]\n",
    "sm_spearmanr_13_28 = spearmanr(test_y_13[:,1], pred_13[:, 1])[0] , spearmanr(test_y_28[:,1], pred_28[:, 1])[0]\n",
    "gm_spearmanr_13_28 = spearmanr(test_y_13[:,2], pred_13[:, 2])[0] , spearmanr(test_y_28[:,2], pred_28[:, 2])[0]\n",
    "rs_spearmanr_13_28 = spearmanr(test_y_13[:,3], pred_13[:, 3])[0] , spearmanr(test_y_28[:,3], pred_28[:, 3])[0]\n",
    "\n",
    "\n",
    "\n",
    "bh_kendalltau_13_28 = kendalltau(test_y_13[:,0], pred_13[:, 0])[0] , kendalltau(test_y_28[:,0], pred_28[:, 0])[0]\n",
    "sm_kendalltau_13_28 = kendalltau(test_y_13[:,1], pred_13[:, 1])[0] , kendalltau(test_y_28[:,1], pred_28[:, 1])[0]\n",
    "gm_kendalltau_13_28 = kendalltau(test_y_13[:,2], pred_13[:, 2])[0] , kendalltau(test_y_28[:,2], pred_28[:, 2])[0]\n",
    "rs_kendalltau_13_28 = kendalltau(test_y_13[:,3], pred_13[:, 3])[0] , kendalltau(test_y_28[:,3], pred_28[:, 3])[0]\n",
    "\n",
    "\n",
    "\n",
    "\n",
    "\n",
    "\n",
    "\n",
    "\n",
    "\n",
    "\n",
    "\n",
    "\n",
    "\n"
   ]
  },
  {
   "cell_type": "code",
   "execution_count": null,
   "metadata": {},
   "outputs": [],
   "source": [
    "#plot_bhbulge(test_y_28[:,0], pred_28[:, 0], test_y_28[:,1], pred_28[:,1], save=True)"
   ]
  },
  {
   "cell_type": "code",
   "execution_count": 8,
   "metadata": {},
   "outputs": [],
   "source": [
    "\n",
    "bh_r2_score_13_28 = r2_score(test_y_13[:,0], pred_13[:, 0]) , r2_score(test_y_28[:,0], pred_28[:, 0])\n",
    "sm_r2_score_13_28 = r2_score(test_y_13[:,1], pred_13[:, 1]) , r2_score(test_y_28[:,1], pred_28[:, 1])\n",
    "gm_r2_score_13_28 = r2_score(test_y_13[:,2], pred_13[:, 2]) , r2_score(test_y_28[:,2], pred_28[:, 2])\n",
    "rs_r2_score_13_28 = r2_score(test_y_13[:,3], pred_13[:, 3]) , r2_score(test_y_28[:,3], pred_28[:, 3])"
   ]
  },
  {
   "cell_type": "code",
   "execution_count": 9,
   "metadata": {},
   "outputs": [
    {
     "data": {
      "text/plain": [
       "(0.5487980804016065, 0.5731311140126997)"
      ]
     },
     "execution_count": 9,
     "metadata": {},
     "output_type": "execute_result"
    }
   ],
   "source": [
    "sm_kendalltau_13_28\n",
    "sm_r2_score_13_28\n",
    "sm_spearmanr_13_28\n",
    "sm_pearson_13_28"
   ]
  },
  {
   "cell_type": "code",
   "execution_count": null,
   "metadata": {},
   "outputs": [],
   "source": []
  }
 ],
 "metadata": {
  "kernelspec": {
   "display_name": "Python 3",
   "language": "python",
   "name": "python3"
  },
  "language_info": {
   "codemirror_mode": {
    "name": "ipython",
    "version": 3
   },
   "file_extension": ".py",
   "mimetype": "text/x-python",
   "name": "python",
   "nbconvert_exporter": "python",
   "pygments_lexer": "ipython3",
   "version": "3.6.9"
  }
 },
 "nbformat": 4,
 "nbformat_minor": 2
}
