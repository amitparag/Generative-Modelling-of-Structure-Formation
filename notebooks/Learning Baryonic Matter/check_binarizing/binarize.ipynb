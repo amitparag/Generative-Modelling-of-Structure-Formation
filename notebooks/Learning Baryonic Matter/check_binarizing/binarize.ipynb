{
 "cells": [
  {
   "cell_type": "code",
   "execution_count": null,
   "metadata": {},
   "outputs": [],
   "source": []
  },
  {
   "cell_type": "code",
   "execution_count": 3,
   "metadata": {},
   "outputs": [
    {
     "name": "stdout",
     "output_type": "stream",
     "text": [
      "numgalaxies             1.000000e+00\n",
      "massCentralBlackHole    1.812820e+06\n",
      "stellarMass             8.051070e+07\n",
      "velDisp                 2.792647e+01\n",
      "totalStellarMass        8.051070e+07\n",
      "Name: 0, dtype: float64\n"
     ]
    },
    {
     "name": "stderr",
     "output_type": "stream",
     "text": [
      "/home/amit/.local/lib/python3.6/site-packages/ipykernel_launcher.py:12: UserWarning: Boolean Series key will be reindexed to match DataFrame index.\n",
      "  if sys.path[0] == '':\n",
      "/home/amit/.local/lib/python3.6/site-packages/ipykernel_launcher.py:13: UserWarning: Boolean Series key will be reindexed to match DataFrame index.\n",
      "  del sys.path[0]\n"
     ]
    },
    {
     "name": "stdout",
     "output_type": "stream",
     "text": [
      "47586 67\n"
     ]
    }
   ],
   "source": [
    "import pandas as pd\n",
    "import numpy as np\n",
    "df = pd.read_csv('s4multiples.csv', delimiter = \",\")\n",
    "print(df.iloc[0,0:5])  #these are the baryonic properties to be predicted . remember last column index is 4. \n",
    "baryonic_matter = df.iloc[:,0:5]\n",
    "mean = baryonic_matter.mean(axis = 0)\n",
    "st_deviation = baryonic_matter.std(axis = 0)\n",
    "cutoffs = mean + 30*st_deviation #Taken from kamdar, to remove outliers\n",
    "assert mean.shape == st_deviation.shape == cutoffs.shape\n",
    "\n",
    "df = df[df.numgalaxies < cutoffs[0]][df.massCentralBlackHole\n",
    "        < cutoffs[1]][df.stellarMass < cutoffs[2]][df.velDisp\n",
    "        < cutoffs[3]][df.totalStellarMass < cutoffs[4]]\n",
    "\n",
    "df = df.sample(frac=1).reset_index(drop=True)\n",
    "\n",
    "assert df.isnull().values.any() == False\n",
    "\n",
    "data = df.values\n",
    "\n",
    "def binning(data_array):\n",
    "    \n",
    "    instances, features = data_array.shape\n",
    "    dark = np.zeros([instances, features])\n",
    "    mean_array = np.mean(data_array, axis = 0, dtype = np.float64)\n",
    "    \n",
    "    for row in range(instances):\n",
    "        for feature in range(features):\n",
    "            \n",
    "            if data_array[row][feature] >= mean_array[feature]:\n",
    "                dark[row][feature]  = 1\n",
    "            else:\n",
    "                dark[row][feature] = 0\n",
    "                \n",
    "    return dark\n",
    "\n",
    "eaglez10 = binning(data)\n",
    "rows = eaglez10.shape[0]\n",
    "cols = eaglez10.shape[1]\n",
    "print(rows, cols)\n",
    "import math\n",
    "train_size = int(math.floor(rows * 0.65))\n",
    "#test_size = int(train_size + math.floor(rows * 0.20))\n",
    "#val_size = int(test_size + math.ceil(rows*0.))\n",
    "\n",
    "eagle_train = eaglez10[0:train_size,:].astype(np.int)\n",
    "eagle_test = eaglez10[train_size:,:].astype(np.int)\n",
    "#eagle_valid = eaglez10[test_size:,:].astype(np.int)\n",
    "\n",
    "assert eagle_test.shape[1] == eagle_train.shape[1] \n",
    "\n",
    "\n",
    "np.savetxt('s4multiples.ts.data', eagle_train, fmt = '%1d', delimiter = \",\")\n",
    "np.savetxt('s4multiples.test.data', eagle_test, fmt = '%1d', delimiter = \",\")\n",
    "#np.savetxt('eagle2.valid.data', eagle_valid, fmt = '%1d', delimiter = \",\")\n",
    "\n",
    "assert eagle_test.shape[1] == eagle_train.shape[1]  == df.shape[1]\n",
    "assert eagle_test.shape[0] + eagle_train.shape[0]  == df.shape[0] \n"
   ]
  },
  {
   "cell_type": "code",
   "execution_count": null,
   "metadata": {},
   "outputs": [],
   "source": []
  }
 ],
 "metadata": {
  "kernelspec": {
   "display_name": "Python 3",
   "language": "python",
   "name": "python3"
  },
  "language_info": {
   "codemirror_mode": {
    "name": "ipython",
    "version": 3
   },
   "file_extension": ".py",
   "mimetype": "text/x-python",
   "name": "python",
   "nbconvert_exporter": "python",
   "pygments_lexer": "ipython3",
   "version": "3.6.9"
  }
 },
 "nbformat": 4,
 "nbformat_minor": 2
}
