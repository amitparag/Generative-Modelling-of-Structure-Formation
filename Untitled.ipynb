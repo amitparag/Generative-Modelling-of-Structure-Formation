{
 "cells": [
  {
   "cell_type": "code",
   "execution_count": 1,
   "metadata": {},
   "outputs": [],
   "source": [
    "import warnings\n",
    "warnings.simplefilter(\"ignore\", UserWarning)\n",
    "warnings.filterwarnings(\"ignore\")\n",
    "import pandas as pd\n",
    "import numpy as np\n",
    "import seaborn as sns\n",
    "import matplotlib\n",
    "import matplotlib.pyplot as plt\n",
    "%matplotlib inline\n",
    "\n",
    "df = pd.read_csv('DmProg.csv')"
   ]
  },
  {
   "cell_type": "code",
   "execution_count": 2,
   "metadata": {},
   "outputs": [
    {
     "data": {
      "text/plain": [
       "Index(['NumberOfSubhalos', 'halogroupMass', 'haloVirialMass',\n",
       "       'haloVirialRadius', 'halo500Mass', 'halo500Radius', 'halo200meanMass',\n",
       "       'halo200meanRadius', 'halo500meanMass', 'halo500meanRadius',\n",
       "       'halo2500Mass', 'halo2500RadiusMass', 'halo2500MassMean',\n",
       "       'halo2500RadiusMean', 'NumberOfSubonehalos', 'onehalogroupMass',\n",
       "       'onehaloVirialMass', 'onehaloVirialRadius', 'onehalo500Mass',\n",
       "       'onehalo500Radius', 'onehalo200meanMass', 'onehalo200meanRadius',\n",
       "       'onehalo500meanMass', 'onehalo500meanRadius', 'onehalo2500Mass',\n",
       "       'onehalo2500RadiusMass', 'onehalo2500MassMean', 'onehalo2500RadiusMean',\n",
       "       'NumberOfSubtwohalos', 'twohalogroupMass', 'twohaloVirialMass',\n",
       "       'twohaloVirialRadius', 'twohalo500Mass', 'twohalo500Radius',\n",
       "       'twohalo200meanMass', 'twohalo200meanRadius', 'twohalo500meanMass',\n",
       "       'twohalo500meanRadius', 'twohalo2500Mass', 'twohalo2500RadiusMass',\n",
       "       'twohalo2500MassMean', 'twohalo2500RadiusMean', 'NumberOfSubthreehalos',\n",
       "       'threehalogroupMass', 'threehaloVirialMass', 'threehaloVirialRadius',\n",
       "       'threehalo500Mass', 'threehalo500Radius', 'threehalo200meanMass',\n",
       "       'threehalo200meanRadius', 'threehalo500meanMass',\n",
       "       'threehalo500meanRadius', 'threehalo2500Mass',\n",
       "       'threehalo2500RadiusMass', 'threehalo2500MassMean',\n",
       "       'threehalo2500RadiusMean', 'NumberOfSubfourhalos', 'fourhalogroupMass',\n",
       "       'fourhaloVirialMass', 'fourhaloVirialRadius', 'fourhalo500Mass',\n",
       "       'fourhalo500Radius', 'fourhalo200meanMass', 'fourhalo200meanRadius',\n",
       "       'fourhalo500meanMass', 'fourhalo500meanRadius', 'fourhalo2500Mass',\n",
       "       'fourhalo2500RadiusMass', 'fourhalo2500MassMean',\n",
       "       'fourhalo2500RadiusMean', 'NumberOfSubfivehalos', 'fivehalogroupMass',\n",
       "       'fivehaloVirialMass', 'fivehaloVirialRadius', 'fivehalo500Mass',\n",
       "       'fivehalo500Radius', 'fivehalo200meanMass', 'fivehalo200meanRadius',\n",
       "       'fivehalo500meanMass', 'fivehalo500meanRadius', 'fivehalo2500Mass',\n",
       "       'fivehalo2500RadiusMass', 'fivehalo2500MassMean',\n",
       "       'fivehalo2500RadiusMean', 'cgVelocity', 'oneprogVelocity',\n",
       "       'twoprogVelocity', 'threeproVelocity', 'fourprogVelocity',\n",
       "       'fiveprogVelocity'],\n",
       "      dtype='object')"
      ]
     },
     "execution_count": 2,
     "metadata": {},
     "output_type": "execute_result"
    }
   ],
   "source": [
    "df.columns"
   ]
  },
  {
   "cell_type": "code",
   "execution_count": 4,
   "metadata": {},
   "outputs": [
    {
     "data": {
      "image/png": "[encoded data removed]",
      "text/plain": [
       "<Figure size 1440x1080 with 2 Axes>"
      ]
     },
     "metadata": {
      "needs_background": "light"
     },
     "output_type": "display_data"
    }
   ],
   "source": [
    "df = df.sample(frac=1).reset_index(drop=True)\n",
    "\n",
    "df['Subhalo Distribution, between redshifts 1.74 and 3.02'] = df['NumberOfSubhalos']\n",
    "df['Halo Group_M_Crit_200, between redshifts 1.74 and 3.02'] = df['haloVirialMass']\n",
    "df['Halo Group_R_Crit_200, between redshifts 1.74 and 3.02'] = df['haloVirialRadius']\n",
    "h = sns.pairplot(data=df,y_vars=['Subhalo Distribution, between redshifts 1.74 and 3.02'], \\\n",
    "               x_vars=['Halo Group_M_Crit_200, between redshifts 1.74 and 3.02', \\\n",
    "                       'Halo Group_R_Crit_200, between redshifts 1.74 and 3.02'], \\\n",
    "              kind=\"scatter\", markers = '.', plot_kws=dict(alpha = 0.6, s= 80,\n",
    "                edgecolor='#dff7be'))\n",
    "\n",
    "h.fig.set_size_inches(20,15)"
   ]
  },
  {
   "cell_type": "code",
   "execution_count": null,
   "metadata": {},
   "outputs": [],
   "source": []
  }
 ],
 "metadata": {
  "kernelspec": {
   "display_name": "Python 3",
   "language": "python",
   "name": "python3"
  },
  "language_info": {
   "codemirror_mode": {
    "name": "ipython",
    "version": 3
   },
   "file_extension": ".py",
   "mimetype": "text/x-python",
   "name": "python",
   "nbconvert_exporter": "python",
   "pygments_lexer": "ipython3",
   "version": "3.6.5"
  }
 },
 "nbformat": 4,
 "nbformat_minor": 2
}
